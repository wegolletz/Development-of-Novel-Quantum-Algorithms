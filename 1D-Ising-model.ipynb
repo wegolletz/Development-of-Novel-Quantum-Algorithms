{
  "nbformat": 4,
  "nbformat_minor": 0,
  "metadata": {
    "colab": {
      "provenance": []
    },
    "kernelspec": {
      "name": "python3",
      "display_name": "Python 3"
    },
    "language_info": {
      "name": "python"
    }
  },
  "cells": [
    {
      "cell_type": "code",
      "source": [
        "\"\"\"\n",
        "Created on July, 2024\n",
        "\n",
        "@author: Weronika Golletz\n",
        "@author: Czcibor Ciostek\n",
        "\n",
        "Womanium Quantum + AI Project\n",
        "\"\"\""
      ],
      "metadata": {
        "id": "HX_OO_4COsiw"
      },
      "execution_count": null,
      "outputs": []
    },
    {
      "cell_type": "markdown",
      "source": [
        "# 1D transverse-field Ising model"
      ],
      "metadata": {
        "id": "_pWtV43kPF4O"
      }
    },
    {
      "cell_type": "markdown",
      "source": [
        "n this notebook, we analyze the one-dimensional (1D) transverse-field Ising model with $N=4$ spins without periodic boundary conditions. We focus on how the global magnetization changes over time. To simulate the system's dynamics, we use the Classiq Python SDK."
      ],
      "metadata": {
        "id": "WxxBpayMOdC4"
      }
    },
    {
      "cell_type": "code",
      "source": [
        "import numpy as np\n",
        "import matplotlib.pyplot as plt"
      ],
      "metadata": {
        "id": "M2vKOy5b-1H0"
      },
      "execution_count": 1,
      "outputs": []
    },
    {
      "cell_type": "code",
      "source": [
        "!sudo apt install cm-super dvipng texlive-latex-extra texlive-latex-recommended"
      ],
      "metadata": {
        "colab": {
          "base_uri": "https://localhost:8080/"
        },
        "collapsed": true,
        "id": "RcQ7m9xCBBzh",
        "outputId": "d6472912-9493-4dbd-ad6a-2f848d1168d3"
      },
      "execution_count": 2,
      "outputs": [
        {
          "output_type": "stream",
          "name": "stdout",
          "text": [
            "Reading package lists... Done\n",
            "Building dependency tree... Done\n",
            "Reading state information... Done\n",
            "The following additional packages will be installed:\n",
            "  cm-super-minimal dvisvgm fonts-droid-fallback fonts-lato fonts-lmodern\n",
            "  fonts-noto-mono fonts-texgyre fonts-urw-base35 ghostscript\n",
            "  libapache-pom-java libcommons-logging-java libcommons-parent-java\n",
            "  libfontbox-java libfontenc1 libgs9 libgs9-common libidn12 libijs-0.35\n",
            "  libjbig2dec0 libkpathsea6 libpdfbox-java libptexenc1 libruby3.0 libsynctex2\n",
            "  libteckit0 libtexlua53 libtexluajit2 libwoff1 libzzip-0-13 lmodern\n",
            "  pfb2t1c2pfb poppler-data preview-latex-style rake ruby ruby-net-telnet\n",
            "  ruby-rubygems ruby-webrick ruby-xmlrpc ruby3.0 rubygems-integration t1utils\n",
            "  tex-common tex-gyre texlive-base texlive-binaries texlive-fonts-recommended\n",
            "  texlive-latex-base texlive-pictures texlive-plain-generic tipa\n",
            "  xfonts-encodings xfonts-utils\n",
            "Suggested packages:\n",
            "  fonts-noto fonts-freefont-otf | fonts-freefont-ttf ghostscript-x\n",
            "  libavalon-framework-java libcommons-logging-java-doc\n",
            "  libexcalibur-logkit-java liblog4j1.2-java poppler-utils\n",
            "  fonts-japanese-mincho | fonts-ipafont-mincho fonts-japanese-gothic\n",
            "  | fonts-ipafont-gothic fonts-arphic-ukai fonts-arphic-uming fonts-nanum ri\n",
            "  ruby-dev bundler debhelper perl-tk xpdf | pdf-viewer xzdec\n",
            "  texlive-fonts-recommended-doc texlive-latex-base-doc python3-pygments\n",
            "  icc-profiles libfile-which-perl libspreadsheet-parseexcel-perl\n",
            "  texlive-latex-extra-doc texlive-latex-recommended-doc texlive-luatex\n",
            "  texlive-pstricks dot2tex prerex texlive-pictures-doc vprerex\n",
            "  default-jre-headless tipa-doc\n",
            "The following NEW packages will be installed:\n",
            "  cm-super cm-super-minimal dvipng dvisvgm fonts-droid-fallback fonts-lato\n",
            "  fonts-lmodern fonts-noto-mono fonts-texgyre fonts-urw-base35 ghostscript\n",
            "  libapache-pom-java libcommons-logging-java libcommons-parent-java\n",
            "  libfontbox-java libfontenc1 libgs9 libgs9-common libidn12 libijs-0.35\n",
            "  libjbig2dec0 libkpathsea6 libpdfbox-java libptexenc1 libruby3.0 libsynctex2\n",
            "  libteckit0 libtexlua53 libtexluajit2 libwoff1 libzzip-0-13 lmodern\n",
            "  pfb2t1c2pfb poppler-data preview-latex-style rake ruby ruby-net-telnet\n",
            "  ruby-rubygems ruby-webrick ruby-xmlrpc ruby3.0 rubygems-integration t1utils\n",
            "  tex-common tex-gyre texlive-base texlive-binaries texlive-fonts-recommended\n",
            "  texlive-latex-base texlive-latex-extra texlive-latex-recommended\n",
            "  texlive-pictures texlive-plain-generic tipa xfonts-encodings xfonts-utils\n",
            "0 upgraded, 57 newly installed, 0 to remove and 45 not upgraded.\n",
            "Need to get 195 MB of archives.\n",
            "After this operation, 613 MB of additional disk space will be used.\n",
            "Get:1 http://archive.ubuntu.com/ubuntu jammy/main amd64 fonts-droid-fallback all 1:6.0.1r16-1.1build1 [1,805 kB]\n",
            "Get:2 http://archive.ubuntu.com/ubuntu jammy/main amd64 fonts-lato all 2.0-2.1 [2,696 kB]\n",
            "Get:3 http://archive.ubuntu.com/ubuntu jammy/main amd64 poppler-data all 0.4.11-1 [2,171 kB]\n",
            "Get:4 http://archive.ubuntu.com/ubuntu jammy/universe amd64 tex-common all 6.17 [33.7 kB]\n",
            "Get:5 http://archive.ubuntu.com/ubuntu jammy-updates/main amd64 libkpathsea6 amd64 2021.20210626.59705-1ubuntu0.2 [60.4 kB]\n",
            "Get:6 http://archive.ubuntu.com/ubuntu jammy-updates/main amd64 libptexenc1 amd64 2021.20210626.59705-1ubuntu0.2 [39.1 kB]\n",
            "Get:7 http://archive.ubuntu.com/ubuntu jammy-updates/main amd64 libsynctex2 amd64 2021.20210626.59705-1ubuntu0.2 [55.6 kB]\n",
            "Get:8 http://archive.ubuntu.com/ubuntu jammy-updates/main amd64 libtexlua53 amd64 2021.20210626.59705-1ubuntu0.2 [120 kB]\n",
            "Get:9 http://archive.ubuntu.com/ubuntu jammy-updates/main amd64 libtexluajit2 amd64 2021.20210626.59705-1ubuntu0.2 [267 kB]\n",
            "Get:10 http://archive.ubuntu.com/ubuntu jammy/main amd64 t1utils amd64 1.41-4build2 [61.3 kB]\n",
            "Get:11 http://archive.ubuntu.com/ubuntu jammy/universe amd64 libteckit0 amd64 2.5.11+ds1-1 [421 kB]\n",
            "Get:12 http://archive.ubuntu.com/ubuntu jammy/universe amd64 libzzip-0-13 amd64 0.13.72+dfsg.1-1.1 [27.0 kB]\n",
            "Get:13 http://archive.ubuntu.com/ubuntu jammy-updates/universe amd64 texlive-binaries amd64 2021.20210626.59705-1ubuntu0.2 [9,860 kB]\n",
            "Get:14 http://archive.ubuntu.com/ubuntu jammy/universe amd64 texlive-base all 2021.20220204-1 [21.0 MB]\n",
            "Get:15 http://archive.ubuntu.com/ubuntu jammy/universe amd64 fonts-lmodern all 2.004.5-6.1 [4,532 kB]\n",
            "Get:16 http://archive.ubuntu.com/ubuntu jammy/universe amd64 texlive-latex-base all 2021.20220204-1 [1,128 kB]\n",
            "Get:17 http://archive.ubuntu.com/ubuntu jammy/universe amd64 texlive-latex-recommended all 2021.20220204-1 [14.4 MB]\n",
            "Get:18 http://archive.ubuntu.com/ubuntu jammy/universe amd64 cm-super-minimal all 0.3.4-17 [5,777 kB]\n",
            "Get:19 http://archive.ubuntu.com/ubuntu jammy/universe amd64 pfb2t1c2pfb amd64 0.3-11 [9,342 B]\n",
            "Get:20 http://archive.ubuntu.com/ubuntu jammy/universe amd64 cm-super all 0.3.4-17 [20.2 MB]\n",
            "Get:21 http://archive.ubuntu.com/ubuntu jammy/main amd64 fonts-urw-base35 all 20200910-1 [6,367 kB]\n",
            "Get:22 http://archive.ubuntu.com/ubuntu jammy-updates/main amd64 libgs9-common all 9.55.0~dfsg1-0ubuntu5.9 [752 kB]\n",
            "Get:23 http://archive.ubuntu.com/ubuntu jammy-updates/main amd64 libidn12 amd64 1.38-4ubuntu1 [60.0 kB]\n",
            "Get:24 http://archive.ubuntu.com/ubuntu jammy/main amd64 libijs-0.35 amd64 0.35-15build2 [16.5 kB]\n",
            "Get:25 http://archive.ubuntu.com/ubuntu jammy/main amd64 libjbig2dec0 amd64 0.19-3build2 [64.7 kB]\n",
            "Get:26 http://archive.ubuntu.com/ubuntu jammy-updates/main amd64 libgs9 amd64 9.55.0~dfsg1-0ubuntu5.9 [5,033 kB]\n",
            "Get:27 http://archive.ubuntu.com/ubuntu jammy-updates/main amd64 ghostscript amd64 9.55.0~dfsg1-0ubuntu5.9 [49.5 kB]\n",
            "Get:28 http://archive.ubuntu.com/ubuntu jammy/universe amd64 dvipng amd64 1.15-1.1 [78.9 kB]\n",
            "Get:29 http://archive.ubuntu.com/ubuntu jammy/main amd64 libwoff1 amd64 1.0.2-1build4 [45.2 kB]\n",
            "Get:30 http://archive.ubuntu.com/ubuntu jammy/universe amd64 dvisvgm amd64 2.13.1-1 [1,221 kB]\n",
            "Get:31 http://archive.ubuntu.com/ubuntu jammy/main amd64 fonts-noto-mono all 20201225-1build1 [397 kB]\n",
            "Get:32 http://archive.ubuntu.com/ubuntu jammy/universe amd64 fonts-texgyre all 20180621-3.1 [10.2 MB]\n",
            "Get:33 http://archive.ubuntu.com/ubuntu jammy/universe amd64 libapache-pom-java all 18-1 [4,720 B]\n",
            "Get:34 http://archive.ubuntu.com/ubuntu jammy/universe amd64 libcommons-parent-java all 43-1 [10.8 kB]\n",
            "Get:35 http://archive.ubuntu.com/ubuntu jammy/universe amd64 libcommons-logging-java all 1.2-2 [60.3 kB]\n",
            "Get:36 http://archive.ubuntu.com/ubuntu jammy/main amd64 libfontenc1 amd64 1:1.1.4-1build3 [14.7 kB]\n",
            "Get:37 http://archive.ubuntu.com/ubuntu jammy/main amd64 rubygems-integration all 1.18 [5,336 B]\n",
            "Get:38 http://archive.ubuntu.com/ubuntu jammy-updates/main amd64 ruby3.0 amd64 3.0.2-7ubuntu2.7 [50.1 kB]\n",
            "Get:39 http://archive.ubuntu.com/ubuntu jammy/main amd64 ruby-rubygems all 3.3.5-2 [228 kB]\n",
            "Get:40 http://archive.ubuntu.com/ubuntu jammy/main amd64 ruby amd64 1:3.0~exp1 [5,100 B]\n",
            "Get:41 http://archive.ubuntu.com/ubuntu jammy/main amd64 rake all 13.0.6-2 [61.7 kB]\n",
            "Get:42 http://archive.ubuntu.com/ubuntu jammy/main amd64 ruby-net-telnet all 0.1.1-2 [12.6 kB]\n",
            "Get:43 http://archive.ubuntu.com/ubuntu jammy/universe amd64 ruby-webrick all 1.7.0-3 [51.8 kB]\n",
            "Get:44 http://archive.ubuntu.com/ubuntu jammy-updates/main amd64 ruby-xmlrpc all 0.3.2-1ubuntu0.1 [24.9 kB]\n",
            "Get:45 http://archive.ubuntu.com/ubuntu jammy-updates/main amd64 libruby3.0 amd64 3.0.2-7ubuntu2.7 [5,113 kB]\n",
            "Get:46 http://archive.ubuntu.com/ubuntu jammy/main amd64 xfonts-encodings all 1:1.0.5-0ubuntu2 [578 kB]\n",
            "Get:47 http://archive.ubuntu.com/ubuntu jammy/main amd64 xfonts-utils amd64 1:7.7+6build2 [94.6 kB]\n",
            "Get:48 http://archive.ubuntu.com/ubuntu jammy/universe amd64 lmodern all 2.004.5-6.1 [9,471 kB]\n",
            "Get:49 http://archive.ubuntu.com/ubuntu jammy/universe amd64 preview-latex-style all 12.2-1ubuntu1 [185 kB]\n",
            "Get:50 http://archive.ubuntu.com/ubuntu jammy/universe amd64 tex-gyre all 20180621-3.1 [6,209 kB]\n",
            "Get:51 http://archive.ubuntu.com/ubuntu jammy/universe amd64 texlive-fonts-recommended all 2021.20220204-1 [4,972 kB]\n",
            "Get:52 http://archive.ubuntu.com/ubuntu jammy/universe amd64 libfontbox-java all 1:1.8.16-2 [207 kB]\n",
            "Get:53 http://archive.ubuntu.com/ubuntu jammy/universe amd64 libpdfbox-java all 1:1.8.16-2 [5,199 kB]\n",
            "Get:54 http://archive.ubuntu.com/ubuntu jammy/universe amd64 texlive-pictures all 2021.20220204-1 [8,720 kB]\n",
            "Get:55 http://archive.ubuntu.com/ubuntu jammy/universe amd64 texlive-latex-extra all 2021.20220204-1 [13.9 MB]\n",
            "Get:56 http://archive.ubuntu.com/ubuntu jammy/universe amd64 texlive-plain-generic all 2021.20220204-1 [27.5 MB]\n",
            "Get:57 http://archive.ubuntu.com/ubuntu jammy/universe amd64 tipa all 2:1.3-21 [2,967 kB]\n",
            "Fetched 195 MB in 9s (20.9 MB/s)\n",
            "debconf: unable to initialize frontend: Dialog\n",
            "debconf: (No usable dialog-like program is installed, so the dialog based frontend cannot be used. at /usr/share/perl5/Debconf/FrontEnd/Dialog.pm line 78, <> line 57.)\n",
            "debconf: falling back to frontend: Readline\n",
            "debconf: unable to initialize frontend: Readline\n",
            "debconf: (This frontend requires a controlling tty.)\n",
            "debconf: falling back to frontend: Teletype\n",
            "dpkg-preconfigure: unable to re-open stdin: \n",
            "Selecting previously unselected package fonts-droid-fallback.\n",
            "(Reading database ... 123594 files and directories currently installed.)\n",
            "Preparing to unpack .../00-fonts-droid-fallback_1%3a6.0.1r16-1.1build1_all.deb ...\n",
            "Unpacking fonts-droid-fallback (1:6.0.1r16-1.1build1) ...\n",
            "Selecting previously unselected package fonts-lato.\n",
            "Preparing to unpack .../01-fonts-lato_2.0-2.1_all.deb ...\n",
            "Unpacking fonts-lato (2.0-2.1) ...\n",
            "Selecting previously unselected package poppler-data.\n",
            "Preparing to unpack .../02-poppler-data_0.4.11-1_all.deb ...\n",
            "Unpacking poppler-data (0.4.11-1) ...\n",
            "Selecting previously unselected package tex-common.\n",
            "Preparing to unpack .../03-tex-common_6.17_all.deb ...\n",
            "Unpacking tex-common (6.17) ...\n",
            "Selecting previously unselected package libkpathsea6:amd64.\n",
            "Preparing to unpack .../04-libkpathsea6_2021.20210626.59705-1ubuntu0.2_amd64.deb ...\n",
            "Unpacking libkpathsea6:amd64 (2021.20210626.59705-1ubuntu0.2) ...\n",
            "Selecting previously unselected package libptexenc1:amd64.\n",
            "Preparing to unpack .../05-libptexenc1_2021.20210626.59705-1ubuntu0.2_amd64.deb ...\n",
            "Unpacking libptexenc1:amd64 (2021.20210626.59705-1ubuntu0.2) ...\n",
            "Selecting previously unselected package libsynctex2:amd64.\n",
            "Preparing to unpack .../06-libsynctex2_2021.20210626.59705-1ubuntu0.2_amd64.deb ...\n",
            "Unpacking libsynctex2:amd64 (2021.20210626.59705-1ubuntu0.2) ...\n",
            "Selecting previously unselected package libtexlua53:amd64.\n",
            "Preparing to unpack .../07-libtexlua53_2021.20210626.59705-1ubuntu0.2_amd64.deb ...\n",
            "Unpacking libtexlua53:amd64 (2021.20210626.59705-1ubuntu0.2) ...\n",
            "Selecting previously unselected package libtexluajit2:amd64.\n",
            "Preparing to unpack .../08-libtexluajit2_2021.20210626.59705-1ubuntu0.2_amd64.deb ...\n",
            "Unpacking libtexluajit2:amd64 (2021.20210626.59705-1ubuntu0.2) ...\n",
            "Selecting previously unselected package t1utils.\n",
            "Preparing to unpack .../09-t1utils_1.41-4build2_amd64.deb ...\n",
            "Unpacking t1utils (1.41-4build2) ...\n",
            "Selecting previously unselected package libteckit0:amd64.\n",
            "Preparing to unpack .../10-libteckit0_2.5.11+ds1-1_amd64.deb ...\n",
            "Unpacking libteckit0:amd64 (2.5.11+ds1-1) ...\n",
            "Selecting previously unselected package libzzip-0-13:amd64.\n",
            "Preparing to unpack .../11-libzzip-0-13_0.13.72+dfsg.1-1.1_amd64.deb ...\n",
            "Unpacking libzzip-0-13:amd64 (0.13.72+dfsg.1-1.1) ...\n",
            "Selecting previously unselected package texlive-binaries.\n",
            "Preparing to unpack .../12-texlive-binaries_2021.20210626.59705-1ubuntu0.2_amd64.deb ...\n",
            "Unpacking texlive-binaries (2021.20210626.59705-1ubuntu0.2) ...\n",
            "Selecting previously unselected package texlive-base.\n",
            "Preparing to unpack .../13-texlive-base_2021.20220204-1_all.deb ...\n",
            "Unpacking texlive-base (2021.20220204-1) ...\n",
            "Selecting previously unselected package fonts-lmodern.\n",
            "Preparing to unpack .../14-fonts-lmodern_2.004.5-6.1_all.deb ...\n",
            "Unpacking fonts-lmodern (2.004.5-6.1) ...\n",
            "Selecting previously unselected package texlive-latex-base.\n",
            "Preparing to unpack .../15-texlive-latex-base_2021.20220204-1_all.deb ...\n",
            "Unpacking texlive-latex-base (2021.20220204-1) ...\n",
            "Selecting previously unselected package texlive-latex-recommended.\n",
            "Preparing to unpack .../16-texlive-latex-recommended_2021.20220204-1_all.deb ...\n",
            "Unpacking texlive-latex-recommended (2021.20220204-1) ...\n",
            "Selecting previously unselected package cm-super-minimal.\n",
            "Preparing to unpack .../17-cm-super-minimal_0.3.4-17_all.deb ...\n",
            "Unpacking cm-super-minimal (0.3.4-17) ...\n",
            "Selecting previously unselected package pfb2t1c2pfb.\n",
            "Preparing to unpack .../18-pfb2t1c2pfb_0.3-11_amd64.deb ...\n",
            "Unpacking pfb2t1c2pfb (0.3-11) ...\n",
            "Selecting previously unselected package cm-super.\n",
            "Preparing to unpack .../19-cm-super_0.3.4-17_all.deb ...\n",
            "Unpacking cm-super (0.3.4-17) ...\n",
            "Selecting previously unselected package fonts-urw-base35.\n",
            "Preparing to unpack .../20-fonts-urw-base35_20200910-1_all.deb ...\n",
            "Unpacking fonts-urw-base35 (20200910-1) ...\n",
            "Selecting previously unselected package libgs9-common.\n",
            "Preparing to unpack .../21-libgs9-common_9.55.0~dfsg1-0ubuntu5.9_all.deb ...\n",
            "Unpacking libgs9-common (9.55.0~dfsg1-0ubuntu5.9) ...\n",
            "Selecting previously unselected package libidn12:amd64.\n",
            "Preparing to unpack .../22-libidn12_1.38-4ubuntu1_amd64.deb ...\n",
            "Unpacking libidn12:amd64 (1.38-4ubuntu1) ...\n",
            "Selecting previously unselected package libijs-0.35:amd64.\n",
            "Preparing to unpack .../23-libijs-0.35_0.35-15build2_amd64.deb ...\n",
            "Unpacking libijs-0.35:amd64 (0.35-15build2) ...\n",
            "Selecting previously unselected package libjbig2dec0:amd64.\n",
            "Preparing to unpack .../24-libjbig2dec0_0.19-3build2_amd64.deb ...\n",
            "Unpacking libjbig2dec0:amd64 (0.19-3build2) ...\n",
            "Selecting previously unselected package libgs9:amd64.\n",
            "Preparing to unpack .../25-libgs9_9.55.0~dfsg1-0ubuntu5.9_amd64.deb ...\n",
            "Unpacking libgs9:amd64 (9.55.0~dfsg1-0ubuntu5.9) ...\n",
            "Selecting previously unselected package ghostscript.\n",
            "Preparing to unpack .../26-ghostscript_9.55.0~dfsg1-0ubuntu5.9_amd64.deb ...\n",
            "Unpacking ghostscript (9.55.0~dfsg1-0ubuntu5.9) ...\n",
            "Selecting previously unselected package dvipng.\n",
            "Preparing to unpack .../27-dvipng_1.15-1.1_amd64.deb ...\n",
            "Unpacking dvipng (1.15-1.1) ...\n",
            "Selecting previously unselected package libwoff1:amd64.\n",
            "Preparing to unpack .../28-libwoff1_1.0.2-1build4_amd64.deb ...\n",
            "Unpacking libwoff1:amd64 (1.0.2-1build4) ...\n",
            "Selecting previously unselected package dvisvgm.\n",
            "Preparing to unpack .../29-dvisvgm_2.13.1-1_amd64.deb ...\n",
            "Unpacking dvisvgm (2.13.1-1) ...\n",
            "Selecting previously unselected package fonts-noto-mono.\n",
            "Preparing to unpack .../30-fonts-noto-mono_20201225-1build1_all.deb ...\n",
            "Unpacking fonts-noto-mono (20201225-1build1) ...\n",
            "Selecting previously unselected package fonts-texgyre.\n",
            "Preparing to unpack .../31-fonts-texgyre_20180621-3.1_all.deb ...\n",
            "Unpacking fonts-texgyre (20180621-3.1) ...\n",
            "Selecting previously unselected package libapache-pom-java.\n",
            "Preparing to unpack .../32-libapache-pom-java_18-1_all.deb ...\n",
            "Unpacking libapache-pom-java (18-1) ...\n",
            "Selecting previously unselected package libcommons-parent-java.\n",
            "Preparing to unpack .../33-libcommons-parent-java_43-1_all.deb ...\n",
            "Unpacking libcommons-parent-java (43-1) ...\n",
            "Selecting previously unselected package libcommons-logging-java.\n",
            "Preparing to unpack .../34-libcommons-logging-java_1.2-2_all.deb ...\n",
            "Unpacking libcommons-logging-java (1.2-2) ...\n",
            "Selecting previously unselected package libfontenc1:amd64.\n",
            "Preparing to unpack .../35-libfontenc1_1%3a1.1.4-1build3_amd64.deb ...\n",
            "Unpacking libfontenc1:amd64 (1:1.1.4-1build3) ...\n",
            "Selecting previously unselected package rubygems-integration.\n",
            "Preparing to unpack .../36-rubygems-integration_1.18_all.deb ...\n",
            "Unpacking rubygems-integration (1.18) ...\n",
            "Selecting previously unselected package ruby3.0.\n",
            "Preparing to unpack .../37-ruby3.0_3.0.2-7ubuntu2.7_amd64.deb ...\n",
            "Unpacking ruby3.0 (3.0.2-7ubuntu2.7) ...\n",
            "Selecting previously unselected package ruby-rubygems.\n",
            "Preparing to unpack .../38-ruby-rubygems_3.3.5-2_all.deb ...\n",
            "Unpacking ruby-rubygems (3.3.5-2) ...\n",
            "Selecting previously unselected package ruby.\n",
            "Preparing to unpack .../39-ruby_1%3a3.0~exp1_amd64.deb ...\n",
            "Unpacking ruby (1:3.0~exp1) ...\n",
            "Selecting previously unselected package rake.\n",
            "Preparing to unpack .../40-rake_13.0.6-2_all.deb ...\n",
            "Unpacking rake (13.0.6-2) ...\n",
            "Selecting previously unselected package ruby-net-telnet.\n",
            "Preparing to unpack .../41-ruby-net-telnet_0.1.1-2_all.deb ...\n",
            "Unpacking ruby-net-telnet (0.1.1-2) ...\n",
            "Selecting previously unselected package ruby-webrick.\n",
            "Preparing to unpack .../42-ruby-webrick_1.7.0-3_all.deb ...\n",
            "Unpacking ruby-webrick (1.7.0-3) ...\n",
            "Selecting previously unselected package ruby-xmlrpc.\n",
            "Preparing to unpack .../43-ruby-xmlrpc_0.3.2-1ubuntu0.1_all.deb ...\n",
            "Unpacking ruby-xmlrpc (0.3.2-1ubuntu0.1) ...\n",
            "Selecting previously unselected package libruby3.0:amd64.\n",
            "Preparing to unpack .../44-libruby3.0_3.0.2-7ubuntu2.7_amd64.deb ...\n",
            "Unpacking libruby3.0:amd64 (3.0.2-7ubuntu2.7) ...\n",
            "Selecting previously unselected package xfonts-encodings.\n",
            "Preparing to unpack .../45-xfonts-encodings_1%3a1.0.5-0ubuntu2_all.deb ...\n",
            "Unpacking xfonts-encodings (1:1.0.5-0ubuntu2) ...\n",
            "Selecting previously unselected package xfonts-utils.\n",
            "Preparing to unpack .../46-xfonts-utils_1%3a7.7+6build2_amd64.deb ...\n",
            "Unpacking xfonts-utils (1:7.7+6build2) ...\n",
            "Selecting previously unselected package lmodern.\n",
            "Preparing to unpack .../47-lmodern_2.004.5-6.1_all.deb ...\n",
            "Unpacking lmodern (2.004.5-6.1) ...\n",
            "Selecting previously unselected package preview-latex-style.\n",
            "Preparing to unpack .../48-preview-latex-style_12.2-1ubuntu1_all.deb ...\n",
            "Unpacking preview-latex-style (12.2-1ubuntu1) ...\n",
            "Selecting previously unselected package tex-gyre.\n",
            "Preparing to unpack .../49-tex-gyre_20180621-3.1_all.deb ...\n",
            "Unpacking tex-gyre (20180621-3.1) ...\n",
            "Selecting previously unselected package texlive-fonts-recommended.\n",
            "Preparing to unpack .../50-texlive-fonts-recommended_2021.20220204-1_all.deb ...\n",
            "Unpacking texlive-fonts-recommended (2021.20220204-1) ...\n",
            "Selecting previously unselected package libfontbox-java.\n",
            "Preparing to unpack .../51-libfontbox-java_1%3a1.8.16-2_all.deb ...\n",
            "Unpacking libfontbox-java (1:1.8.16-2) ...\n",
            "Selecting previously unselected package libpdfbox-java.\n",
            "Preparing to unpack .../52-libpdfbox-java_1%3a1.8.16-2_all.deb ...\n",
            "Unpacking libpdfbox-java (1:1.8.16-2) ...\n",
            "Selecting previously unselected package texlive-pictures.\n",
            "Preparing to unpack .../53-texlive-pictures_2021.20220204-1_all.deb ...\n",
            "Unpacking texlive-pictures (2021.20220204-1) ...\n",
            "Selecting previously unselected package texlive-latex-extra.\n",
            "Preparing to unpack .../54-texlive-latex-extra_2021.20220204-1_all.deb ...\n",
            "Unpacking texlive-latex-extra (2021.20220204-1) ...\n",
            "Selecting previously unselected package texlive-plain-generic.\n",
            "Preparing to unpack .../55-texlive-plain-generic_2021.20220204-1_all.deb ...\n",
            "Unpacking texlive-plain-generic (2021.20220204-1) ...\n",
            "Selecting previously unselected package tipa.\n",
            "Preparing to unpack .../56-tipa_2%3a1.3-21_all.deb ...\n",
            "Unpacking tipa (2:1.3-21) ...\n",
            "Setting up pfb2t1c2pfb (0.3-11) ...\n",
            "Setting up fonts-lato (2.0-2.1) ...\n",
            "Setting up fonts-noto-mono (20201225-1build1) ...\n",
            "Setting up libwoff1:amd64 (1.0.2-1build4) ...\n",
            "Setting up libtexlua53:amd64 (2021.20210626.59705-1ubuntu0.2) ...\n",
            "Setting up libijs-0.35:amd64 (0.35-15build2) ...\n",
            "Setting up libtexluajit2:amd64 (2021.20210626.59705-1ubuntu0.2) ...\n",
            "Setting up libfontbox-java (1:1.8.16-2) ...\n",
            "Setting up rubygems-integration (1.18) ...\n",
            "Setting up libzzip-0-13:amd64 (0.13.72+dfsg.1-1.1) ...\n",
            "Setting up fonts-urw-base35 (20200910-1) ...\n",
            "Setting up poppler-data (0.4.11-1) ...\n",
            "Setting up tex-common (6.17) ...\n",
            "debconf: unable to initialize frontend: Dialog\n",
            "debconf: (No usable dialog-like program is installed, so the dialog based frontend cannot be used. at /usr/share/perl5/Debconf/FrontEnd/Dialog.pm line 78.)\n",
            "debconf: falling back to frontend: Readline\n",
            "update-language: texlive-base not installed and configured, doing nothing!\n",
            "Setting up libfontenc1:amd64 (1:1.1.4-1build3) ...\n",
            "Setting up libjbig2dec0:amd64 (0.19-3build2) ...\n",
            "Setting up libteckit0:amd64 (2.5.11+ds1-1) ...\n",
            "Setting up libapache-pom-java (18-1) ...\n",
            "Setting up ruby-net-telnet (0.1.1-2) ...\n",
            "Setting up xfonts-encodings (1:1.0.5-0ubuntu2) ...\n",
            "Setting up t1utils (1.41-4build2) ...\n",
            "Setting up libidn12:amd64 (1.38-4ubuntu1) ...\n",
            "Setting up fonts-texgyre (20180621-3.1) ...\n",
            "Setting up libkpathsea6:amd64 (2021.20210626.59705-1ubuntu0.2) ...\n",
            "Setting up ruby-webrick (1.7.0-3) ...\n",
            "Setting up fonts-lmodern (2.004.5-6.1) ...\n",
            "Setting up fonts-droid-fallback (1:6.0.1r16-1.1build1) ...\n",
            "Setting up ruby-xmlrpc (0.3.2-1ubuntu0.1) ...\n",
            "Setting up libsynctex2:amd64 (2021.20210626.59705-1ubuntu0.2) ...\n",
            "Setting up libgs9-common (9.55.0~dfsg1-0ubuntu5.9) ...\n",
            "Setting up libpdfbox-java (1:1.8.16-2) ...\n",
            "Setting up libgs9:amd64 (9.55.0~dfsg1-0ubuntu5.9) ...\n",
            "Setting up preview-latex-style (12.2-1ubuntu1) ...\n",
            "Setting up libcommons-parent-java (43-1) ...\n",
            "Setting up dvisvgm (2.13.1-1) ...\n",
            "Setting up libcommons-logging-java (1.2-2) ...\n",
            "Setting up ghostscript (9.55.0~dfsg1-0ubuntu5.9) ...\n",
            "Setting up xfonts-utils (1:7.7+6build2) ...\n",
            "Setting up libptexenc1:amd64 (2021.20210626.59705-1ubuntu0.2) ...\n",
            "Setting up texlive-binaries (2021.20210626.59705-1ubuntu0.2) ...\n",
            "update-alternatives: using /usr/bin/xdvi-xaw to provide /usr/bin/xdvi.bin (xdvi.bin) in auto mode\n",
            "update-alternatives: using /usr/bin/bibtex.original to provide /usr/bin/bibtex (bibtex) in auto mode\n",
            "Setting up lmodern (2.004.5-6.1) ...\n",
            "Setting up texlive-base (2021.20220204-1) ...\n",
            "/usr/bin/ucfr\n",
            "/usr/bin/ucfr\n",
            "/usr/bin/ucfr\n",
            "/usr/bin/ucfr\n",
            "mktexlsr: Updating /var/lib/texmf/ls-R-TEXLIVEDIST... \n",
            "mktexlsr: Updating /var/lib/texmf/ls-R-TEXMFMAIN... \n",
            "mktexlsr: Updating /var/lib/texmf/ls-R... \n",
            "mktexlsr: Done.\n",
            "tl-paper: setting paper size for dvips to a4: /var/lib/texmf/dvips/config/config-paper.ps\n",
            "tl-paper: setting paper size for dvipdfmx to a4: /var/lib/texmf/dvipdfmx/dvipdfmx-paper.cfg\n",
            "tl-paper: setting paper size for xdvi to a4: /var/lib/texmf/xdvi/XDvi-paper\n",
            "tl-paper: setting paper size for pdftex to a4: /var/lib/texmf/tex/generic/tex-ini-files/pdftexconfig.tex\n",
            "debconf: unable to initialize frontend: Dialog\n",
            "debconf: (No usable dialog-like program is installed, so the dialog based frontend cannot be used. at /usr/share/perl5/Debconf/FrontEnd/Dialog.pm line 78.)\n",
            "debconf: falling back to frontend: Readline\n",
            "Setting up tex-gyre (20180621-3.1) ...\n",
            "Setting up dvipng (1.15-1.1) ...\n",
            "Setting up texlive-plain-generic (2021.20220204-1) ...\n",
            "Setting up texlive-latex-base (2021.20220204-1) ...\n",
            "Setting up texlive-latex-recommended (2021.20220204-1) ...\n",
            "Setting up texlive-pictures (2021.20220204-1) ...\n",
            "Setting up texlive-fonts-recommended (2021.20220204-1) ...\n",
            "Setting up tipa (2:1.3-21) ...\n",
            "Setting up cm-super-minimal (0.3.4-17) ...\n",
            "Setting up texlive-latex-extra (2021.20220204-1) ...\n",
            "Setting up cm-super (0.3.4-17) ...\n",
            "Creating fonts. This may take some time... done.\n",
            "Setting up rake (13.0.6-2) ...\n",
            "Setting up libruby3.0:amd64 (3.0.2-7ubuntu2.7) ...\n",
            "Setting up ruby3.0 (3.0.2-7ubuntu2.7) ...\n",
            "Setting up ruby (1:3.0~exp1) ...\n",
            "Setting up ruby-rubygems (3.3.5-2) ...\n",
            "Processing triggers for man-db (2.10.2-1) ...\n",
            "Processing triggers for fontconfig (2.13.1-4.2ubuntu5) ...\n",
            "Processing triggers for libc-bin (2.35-0ubuntu3.4) ...\n",
            "/sbin/ldconfig.real: /usr/local/lib/libur_adapter_opencl.so.0 is not a symbolic link\n",
            "\n",
            "/sbin/ldconfig.real: /usr/local/lib/libur_loader.so.0 is not a symbolic link\n",
            "\n",
            "/sbin/ldconfig.real: /usr/local/lib/libtbbmalloc.so.2 is not a symbolic link\n",
            "\n",
            "/sbin/ldconfig.real: /usr/local/lib/libur_adapter_level_zero.so.0 is not a symbolic link\n",
            "\n",
            "/sbin/ldconfig.real: /usr/local/lib/libtbbmalloc_proxy.so.2 is not a symbolic link\n",
            "\n",
            "/sbin/ldconfig.real: /usr/local/lib/libtbb.so.12 is not a symbolic link\n",
            "\n",
            "/sbin/ldconfig.real: /usr/local/lib/libtbbbind.so.3 is not a symbolic link\n",
            "\n",
            "/sbin/ldconfig.real: /usr/local/lib/libtbbbind_2_0.so.3 is not a symbolic link\n",
            "\n",
            "/sbin/ldconfig.real: /usr/local/lib/libtbbbind_2_5.so.3 is not a symbolic link\n",
            "\n",
            "Processing triggers for tex-common (6.17) ...\n",
            "debconf: unable to initialize frontend: Dialog\n",
            "debconf: (No usable dialog-like program is installed, so the dialog based frontend cannot be used. at /usr/share/perl5/Debconf/FrontEnd/Dialog.pm line 78.)\n",
            "debconf: falling back to frontend: Readline\n",
            "Running updmap-sys. This may take some time... done.\n",
            "Running mktexlsr /var/lib/texmf ... done.\n",
            "Building format(s) --all.\n",
            "\tThis may take some time... done.\n"
          ]
        }
      ]
    },
    {
      "cell_type": "code",
      "source": [
        "!pip install -U classiq"
      ],
      "metadata": {
        "colab": {
          "base_uri": "https://localhost:8080/"
        },
        "collapsed": true,
        "id": "1kCMDZpp9xhm",
        "outputId": "5b1cbef1-1110-4b9e-8b8a-09e8227c546f"
      },
      "execution_count": null,
      "outputs": [
        {
          "output_type": "stream",
          "name": "stdout",
          "text": [
            "Requirement already satisfied: classiq in /usr/local/lib/python3.10/dist-packages (0.44.0)\n",
            "Requirement already satisfied: ConfigArgParse<2.0.0,>=1.5.3 in /usr/local/lib/python3.10/dist-packages (from classiq) (1.7)\n",
            "Requirement already satisfied: Pyomo<6.6,>=6.5 in /usr/local/lib/python3.10/dist-packages (from classiq) (6.5.0)\n",
            "Requirement already satisfied: black<25.0,>=24.0 in /usr/local/lib/python3.10/dist-packages (from classiq) (24.8.0)\n",
            "Requirement already satisfied: httpx<1,>=0.23.0 in /usr/local/lib/python3.10/dist-packages (from classiq) (0.27.0)\n",
            "Requirement already satisfied: keyring<24.0.0,>=23.5.0 in /usr/lib/python3/dist-packages (from classiq) (23.5.0)\n",
            "Requirement already satisfied: matplotlib<4.0.0,>=3.4.3 in /usr/local/lib/python3.10/dist-packages (from classiq) (3.7.1)\n",
            "Requirement already satisfied: networkx<3.0.0,>=2.5.1 in /usr/local/lib/python3.10/dist-packages (from classiq) (2.8.8)\n",
            "Requirement already satisfied: numexpr<3.0.0,>=2.7.3 in /usr/local/lib/python3.10/dist-packages (from classiq) (2.10.1)\n",
            "Requirement already satisfied: numpy<2.0.0,>=1.20.1 in /usr/local/lib/python3.10/dist-packages (from classiq) (1.26.4)\n",
            "Requirement already satisfied: packaging<24.0,>=23.2 in /usr/local/lib/python3.10/dist-packages (from classiq) (23.2)\n",
            "Requirement already satisfied: pandas<3.0.0,>=1.4.0 in /usr/local/lib/python3.10/dist-packages (from classiq) (2.1.4)\n",
            "Requirement already satisfied: plotly<6.0.0,>=5.7.0 in /usr/local/lib/python3.10/dist-packages (from classiq) (5.15.0)\n",
            "Requirement already satisfied: pydantic<2.0.0,>=1.9.1 in /usr/local/lib/python3.10/dist-packages (from classiq) (1.10.17)\n",
            "Requirement already satisfied: scipy<2.0.0,>=1.10.1 in /usr/local/lib/python3.10/dist-packages (from classiq) (1.13.1)\n",
            "Requirement already satisfied: sympy<2.0.0,>=1.13.0 in /usr/local/lib/python3.10/dist-packages (from classiq) (1.13.1)\n",
            "Requirement already satisfied: tabulate<1,>=0.8.9 in /usr/local/lib/python3.10/dist-packages (from classiq) (0.9.0)\n",
            "Requirement already satisfied: click>=8.0.0 in /usr/local/lib/python3.10/dist-packages (from black<25.0,>=24.0->classiq) (8.1.7)\n",
            "Requirement already satisfied: mypy-extensions>=0.4.3 in /usr/local/lib/python3.10/dist-packages (from black<25.0,>=24.0->classiq) (1.0.0)\n",
            "Requirement already satisfied: pathspec>=0.9.0 in /usr/local/lib/python3.10/dist-packages (from black<25.0,>=24.0->classiq) (0.12.1)\n",
            "Requirement already satisfied: platformdirs>=2 in /usr/local/lib/python3.10/dist-packages (from black<25.0,>=24.0->classiq) (4.2.2)\n",
            "Requirement already satisfied: tomli>=1.1.0 in /usr/local/lib/python3.10/dist-packages (from black<25.0,>=24.0->classiq) (2.0.1)\n",
            "Requirement already satisfied: typing-extensions>=4.0.1 in /usr/local/lib/python3.10/dist-packages (from black<25.0,>=24.0->classiq) (4.12.2)\n",
            "Requirement already satisfied: anyio in /usr/local/lib/python3.10/dist-packages (from httpx<1,>=0.23.0->classiq) (3.7.1)\n",
            "Requirement already satisfied: certifi in /usr/local/lib/python3.10/dist-packages (from httpx<1,>=0.23.0->classiq) (2024.7.4)\n",
            "Requirement already satisfied: httpcore==1.* in /usr/local/lib/python3.10/dist-packages (from httpx<1,>=0.23.0->classiq) (1.0.5)\n",
            "Requirement already satisfied: idna in /usr/local/lib/python3.10/dist-packages (from httpx<1,>=0.23.0->classiq) (3.7)\n",
            "Requirement already satisfied: sniffio in /usr/local/lib/python3.10/dist-packages (from httpx<1,>=0.23.0->classiq) (1.3.1)\n",
            "Requirement already satisfied: h11<0.15,>=0.13 in /usr/local/lib/python3.10/dist-packages (from httpcore==1.*->httpx<1,>=0.23.0->classiq) (0.14.0)\n",
            "Requirement already satisfied: contourpy>=1.0.1 in /usr/local/lib/python3.10/dist-packages (from matplotlib<4.0.0,>=3.4.3->classiq) (1.2.1)\n",
            "Requirement already satisfied: cycler>=0.10 in /usr/local/lib/python3.10/dist-packages (from matplotlib<4.0.0,>=3.4.3->classiq) (0.12.1)\n",
            "Requirement already satisfied: fonttools>=4.22.0 in /usr/local/lib/python3.10/dist-packages (from matplotlib<4.0.0,>=3.4.3->classiq) (4.53.1)\n",
            "Requirement already satisfied: kiwisolver>=1.0.1 in /usr/local/lib/python3.10/dist-packages (from matplotlib<4.0.0,>=3.4.3->classiq) (1.4.5)\n",
            "Requirement already satisfied: pillow>=6.2.0 in /usr/local/lib/python3.10/dist-packages (from matplotlib<4.0.0,>=3.4.3->classiq) (9.4.0)\n",
            "Requirement already satisfied: pyparsing>=2.3.1 in /usr/local/lib/python3.10/dist-packages (from matplotlib<4.0.0,>=3.4.3->classiq) (3.1.2)\n",
            "Requirement already satisfied: python-dateutil>=2.7 in /usr/local/lib/python3.10/dist-packages (from matplotlib<4.0.0,>=3.4.3->classiq) (2.8.2)\n",
            "Requirement already satisfied: pytz>=2020.1 in /usr/local/lib/python3.10/dist-packages (from pandas<3.0.0,>=1.4.0->classiq) (2024.1)\n",
            "Requirement already satisfied: tzdata>=2022.1 in /usr/local/lib/python3.10/dist-packages (from pandas<3.0.0,>=1.4.0->classiq) (2024.1)\n",
            "Requirement already satisfied: tenacity>=6.2.0 in /usr/local/lib/python3.10/dist-packages (from plotly<6.0.0,>=5.7.0->classiq) (9.0.0)\n",
            "Requirement already satisfied: ply in /usr/local/lib/python3.10/dist-packages (from Pyomo<6.6,>=6.5->classiq) (3.11)\n",
            "Requirement already satisfied: mpmath<1.4,>=1.1.0 in /usr/local/lib/python3.10/dist-packages (from sympy<2.0.0,>=1.13.0->classiq) (1.3.0)\n",
            "Requirement already satisfied: six>=1.5 in /usr/local/lib/python3.10/dist-packages (from python-dateutil>=2.7->matplotlib<4.0.0,>=3.4.3->classiq) (1.16.0)\n",
            "Requirement already satisfied: exceptiongroup in /usr/local/lib/python3.10/dist-packages (from anyio->httpx<1,>=0.23.0->classiq) (1.2.2)\n"
          ]
        }
      ]
    },
    {
      "cell_type": "code",
      "source": [
        "#classiq.authenticate()"
      ],
      "metadata": {
        "id": "xLDPoTeZPU-k"
      },
      "execution_count": null,
      "outputs": []
    },
    {
      "cell_type": "code",
      "source": [
        "from classiq import *\n",
        "from classiq.execution import ExecutionPreferences\n",
        "from classiq.execution import ExecutionSession"
      ],
      "metadata": {
        "id": "fSACjgJF-CM_"
      },
      "execution_count": null,
      "outputs": []
    },
    {
      "cell_type": "code",
      "source": [
        "# Plots settings\n",
        "WIDTH = 5\n",
        "HEIGHT = 3\n",
        "\n",
        "SMALLER_SIZE = 11\n",
        "SMALL_SIZE = 12\n",
        "MEDIUM_SIZE = 16\n",
        "BIGGER_SIZE = 20\n",
        "\n",
        "plt.rc('font', size=SMALLER_SIZE)          # controls default text sizes\n",
        "plt.rc('axes', titlesize=SMALL_SIZE)     # fontsize of the axes title\n",
        "plt.rc('axes', labelsize=SMALL_SIZE)    # fontsize of the x and y labels\n",
        "plt.rc('xtick', labelsize=SMALL_SIZE)    # fontsize of the tick labels\n",
        "plt.rc('ytick', labelsize=SMALL_SIZE)    # fontsize of the tick labels\n",
        "plt.rc('legend', fontsize=SMALL_SIZE)    # legend fontsize\n",
        "plt.rc('figure', titlesize=BIGGER_SIZE)  # fontsize of the figure title\n",
        "# plt.rcParams['text.usetex'] = True\n",
        "plt.rc('font', **{'family': 'serif', 'serif': ['Computer Modern']})\n",
        "plt.rc('text', usetex=True)"
      ],
      "metadata": {
        "id": "tuw4uHycPSre"
      },
      "execution_count": 3,
      "outputs": []
    },
    {
      "cell_type": "code",
      "source": [
        "# Parameters of the Suzuki-Trotter decomposition\n",
        "REPETITIONS = 1000"
      ],
      "metadata": {
        "id": "yvYhpgHL-jbg"
      },
      "execution_count": null,
      "outputs": []
    },
    {
      "cell_type": "code",
      "source": [
        "def get_repetitions():\n",
        "  \"\"\"\n",
        "  Just returns the global variable repetitions;\n",
        "  allows us to control the 'repetitions' parameter\n",
        "  as a funciton variable.\n",
        "  \"\"\"\n",
        "  return REPETITIONS\n",
        "\n",
        "def mz_state(basis):\n",
        "    \"\"\"\n",
        "    Calculate the magnetization of a given state in the basis.\n",
        "\n",
        "    Input\n",
        "    -----\n",
        "    basis (str): a state from the basis\n",
        "    N (int): number of spins\n",
        "\n",
        "    Output\n",
        "    ------\n",
        "    mz (int): magnetization of a given state\n",
        "    \"\"\"\n",
        "    mz = 0\n",
        "    for id in range(len(basis)):\n",
        "        mz += (1-2*int(basis[id]))\n",
        "    return mz\n",
        "\n",
        "def mz_total(basis,state):\n",
        "    \"\"\"\n",
        "    Calculate the total magnetization for a given state.\n",
        "\n",
        "    Input\n",
        "    -----\n",
        "    basis (str): computational basis for N=4 spins\n",
        "    state (np.array): the state in which the magnetization is calculated\n",
        "    N (int): number of spins\n",
        "\n",
        "    Output\n",
        "    ------\n",
        "    (float): the total magnetization of a system\n",
        "    \"\"\"\n",
        "    mz_total = 0\n",
        "    for jd in range(len(basis)):\n",
        "        mz_total += state[jd] * mz_state(basis[jd])\n",
        "    return mz_total/N"
      ],
      "metadata": {
        "id": "sLnZXetG-qSl"
      },
      "execution_count": null,
      "outputs": []
    },
    {
      "cell_type": "code",
      "source": [
        "# Defining the Hamiltonian\n",
        "def get_hamiltonian(J,h):\n",
        "  \"\"\"\n",
        "  Generate the Ising Hamiltonian for N=4 spins without periodic boundary conditions.\n",
        "\n",
        "  Input\n",
        "  -----\n",
        "  J (float): interaction strength\n",
        "  h (float): transverse field strength\n",
        "\n",
        "  Output\n",
        "  ------\n",
        "  hamiltonian (np.array): Hamiltonian for N=4 spins\n",
        "  \"\"\"\n",
        "  hamiltonian = [\n",
        "        PauliTerm([Pauli.Z, Pauli.Z, Pauli.I, Pauli.I], J),\n",
        "        PauliTerm([Pauli.I, Pauli.Z, Pauli.Z, Pauli.I], J),\n",
        "        PauliTerm([Pauli.I, Pauli.I, Pauli.Z, Pauli.Z], J),\n",
        "        PauliTerm([Pauli.X, Pauli.I, Pauli.I, Pauli.I], h),\n",
        "        PauliTerm([Pauli.I, Pauli.X, Pauli.I, Pauli.I], h),\n",
        "        PauliTerm([Pauli.I, Pauli.I, Pauli.X, Pauli.I], h),\n",
        "        PauliTerm([Pauli.I, Pauli.I, Pauli.I, Pauli.X], h),\n",
        "        ]\n",
        "  return hamiltonian"
      ],
      "metadata": {
        "id": "mpv6skTTCV_I"
      },
      "execution_count": null,
      "outputs": []
    },
    {
      "cell_type": "code",
      "source": [
        "@qfunc\n",
        "def main(time:CReal,J:CReal,h:CReal,qreg: Output[QArray]):\n",
        "    # Parameters of the system\n",
        "    N = 4\n",
        "\n",
        "    # Parameters of the system's dynamics\n",
        "    REPETITIONS = get_repetitions()\n",
        "    order = 1\n",
        "\n",
        "    # Create a qcircuit\n",
        "    allocate(N,qreg) # initial state |0,0,0,0>\n",
        "\n",
        "    suzuki_trotter(\n",
        "        get_hamiltonian(J,h),\n",
        "        evolution_coefficient=time,\n",
        "        repetitions=REPETITIONS,\n",
        "        order=order,\n",
        "        qbv=qreg,\n",
        "    )"
      ],
      "metadata": {
        "id": "lHUhPIZs-BEd"
      },
      "execution_count": null,
      "outputs": []
    },
    {
      "cell_type": "code",
      "source": [
        "# Parameters of the system\n",
        "N = 4           # Number of spins\n",
        "J = 1.0         # Interaction strength\n",
        "h = -3.0        # Transverse field strength"
      ],
      "metadata": {
        "id": "UV46N_vHPwee"
      },
      "execution_count": null,
      "outputs": []
    },
    {
      "cell_type": "markdown",
      "source": [
        "### Different times and repetitions; shots=1000"
      ],
      "metadata": {
        "id": "qZ_Ds1cROXjM"
      }
    },
    {
      "cell_type": "code",
      "source": [
        "times = np.arange(0.0,3,0.05)\n",
        "repetitions_list = [5,10,15,20,100]\n",
        "\n",
        "magnetizations_cl_rep = np.zeros((len(repetitions_list),len(times)))\n",
        "\n",
        "# Parameters related to qcircuit and measurement\n",
        "shots = 1000\n",
        "\n",
        "for (jd,REPETITIONS) in enumerate(repetitions_list):\n",
        "  qcircuit = create_model(main)\n",
        "  quantum_program = synthesize(qcircuit)\n",
        "\n",
        "  # ExecuteSession for symbolic parameters\n",
        "  exe_session = ExecutionSession(quantum_program,\n",
        "                                  ExecutionPreferences(\n",
        "                                  num_shots=shots, job_name=f\"suzuki-trotter\", random_seed=767\n",
        "                                ))\n",
        "  # show(quantum_program)\n",
        "\n",
        "  for (id,time) in enumerate(times):\n",
        "    results = exe_session.sample({\"time\":time,\"J\":-1,\"h\":-3})\n",
        "\n",
        "    # calculate magnetization\n",
        "    data = results.counts\n",
        "    state = [v/shots for v in data.values()]\n",
        "    basis = list(data.keys())\n",
        "    magnetizations_cl_rep[jd,id] = mz_total(basis,state)"
      ],
      "metadata": {
        "id": "gtjClvbuAaNi"
      },
      "execution_count": null,
      "outputs": []
    },
    {
      "cell_type": "code",
      "source": [
        "magnetizations_cl_rep"
      ],
      "metadata": {
        "colab": {
          "base_uri": "https://localhost:8080/"
        },
        "id": "1B4hP-haerkU",
        "outputId": "4c10ae24-d6d1-4394-db44-6a846c653044"
      },
      "execution_count": null,
      "outputs": [
        {
          "output_type": "execute_result",
          "data": {
            "text/plain": [
              "array([[ 1.    ,  0.9535,  0.824 ,  0.6225,  0.3695,  0.093 , -0.188 ,\n",
              "        -0.4355, -0.623 , -0.7465, -0.824 , -0.808 , -0.717 , -0.588 ,\n",
              "        -0.432 , -0.217 , -0.0415,  0.1535,  0.285 ,  0.382 ,  0.4295,\n",
              "         0.425 ,  0.385 ,  0.302 ,  0.202 ,  0.105 , -0.0085, -0.116 ,\n",
              "        -0.159 , -0.1815, -0.188 , -0.17  , -0.126 , -0.067 , -0.0215,\n",
              "         0.0235,  0.0455,  0.0545,  0.0315, -0.0235, -0.094 , -0.19  ,\n",
              "        -0.324 , -0.452 , -0.5785, -0.687 , -0.7815, -0.8745, -0.9305,\n",
              "        -0.965 , -0.984 , -0.9955, -0.9995, -0.9985, -0.996 , -0.9905,\n",
              "        -0.9805, -0.9735, -0.9475, -0.923 ],\n",
              "       [ 1.    ,  0.9535,  0.8245,  0.6225,  0.37  ,  0.0935, -0.1855,\n",
              "        -0.433 , -0.624 , -0.7465, -0.824 , -0.8105, -0.726 , -0.592 ,\n",
              "        -0.44  , -0.242 , -0.064 ,  0.135 ,  0.255 ,  0.3645,  0.416 ,\n",
              "         0.4335,  0.406 ,  0.333 ,  0.26  ,  0.177 ,  0.0715, -0.0245,\n",
              "        -0.102 , -0.1355, -0.1595, -0.1715, -0.16  , -0.1455, -0.127 ,\n",
              "        -0.1035, -0.0745, -0.0595, -0.047 , -0.044 , -0.063 , -0.0745,\n",
              "        -0.0885, -0.088 , -0.086 , -0.072 , -0.0405, -0.0085,  0.0225,\n",
              "         0.0655,  0.093 ,  0.11  ,  0.1115,  0.111 ,  0.1095,  0.0865,\n",
              "         0.0565,  0.017 , -0.022 , -0.061 ],\n",
              "       [ 1.    ,  0.9535,  0.8245,  0.6225,  0.3705,  0.0945, -0.1855,\n",
              "        -0.432 , -0.623 , -0.746 , -0.8235, -0.8115, -0.7285, -0.594 ,\n",
              "        -0.4415, -0.2465, -0.069 ,  0.1295,  0.251 ,  0.3645,  0.415 ,\n",
              "         0.4345,  0.4115,  0.341 ,  0.27  ,  0.184 ,  0.0905, -0.008 ,\n",
              "        -0.0935, -0.1265, -0.1575, -0.17  , -0.1665, -0.1585, -0.1405,\n",
              "        -0.119 , -0.0985, -0.072 , -0.059 , -0.063 , -0.0645, -0.075 ,\n",
              "        -0.077 , -0.083 , -0.0715, -0.048 , -0.0115,  0.009 ,  0.0425,\n",
              "         0.067 ,  0.0955,  0.0955,  0.1015,  0.1055,  0.0945,  0.075 ,\n",
              "         0.017 , -0.0235, -0.0695, -0.123 ],\n",
              "       [ 1.    ,  0.9535,  0.8245,  0.6225,  0.3705,  0.095 , -0.1855,\n",
              "        -0.432 , -0.623 , -0.746 , -0.8235, -0.81  , -0.7295, -0.5965,\n",
              "        -0.4455, -0.25  , -0.068 ,  0.125 ,  0.2495,  0.363 ,  0.414 ,\n",
              "         0.435 ,  0.4105,  0.3425,  0.274 ,  0.19  ,  0.092 , -0.0045,\n",
              "        -0.091 , -0.1205, -0.156 , -0.172 , -0.1695, -0.161 , -0.14  ,\n",
              "        -0.1245, -0.1055, -0.0715, -0.06  , -0.0655, -0.067 , -0.074 ,\n",
              "        -0.08  , -0.07  , -0.0635, -0.0395, -0.005 ,  0.011 ,  0.041 ,\n",
              "         0.068 ,  0.0925,  0.0965,  0.095 ,  0.091 ,  0.08  ,  0.0495,\n",
              "         0.004 , -0.036 , -0.0775, -0.129 ],\n",
              "       [ 1.    ,  0.9535,  0.8245,  0.6225,  0.3705,  0.095 , -0.1855,\n",
              "        -0.433 , -0.6225, -0.746 , -0.8235, -0.809 , -0.7295, -0.5985,\n",
              "        -0.447 , -0.251 , -0.07  ,  0.1235,  0.247 ,  0.361 ,  0.414 ,\n",
              "         0.4325,  0.4125,  0.3465,  0.2775,  0.189 ,  0.098 ,  0.003 ,\n",
              "        -0.0865, -0.119 , -0.155 , -0.1695, -0.1695, -0.166 , -0.1485,\n",
              "        -0.1285, -0.112 , -0.076 , -0.0645, -0.0755, -0.074 , -0.075 ,\n",
              "        -0.08  , -0.068 , -0.058 , -0.033 , -0.007 ,  0.0205,  0.044 ,\n",
              "         0.0635,  0.0815,  0.088 ,  0.088 ,  0.077 ,  0.0705,  0.0405,\n",
              "        -0.007 , -0.0355, -0.087 , -0.1125]])"
            ]
          },
          "metadata": {},
          "execution_count": 187
        }
      ]
    },
    {
      "cell_type": "code",
      "source": [
        "# plot\n",
        "# plt.plot(times,magnetizations_exact,label=f\"Exact evolution\")\n",
        "# plt.plot(t_maxs,magnetizations_TS,label=f\"Trotter-Suzuki decomposition (without Classiq)\", lw=0, marker='o',color='k',markersize=5)\n",
        "fig, ax = plt.subplots()\n",
        "for id in range(len(repetitions_list)):\n",
        "  ax.plot(times,magnetizations_cl_rep[id,:],label=f\"reps. = {repetitions_list[id]}\") #, marker='x',color='red',markersize=5)\n",
        "\n",
        "# ax_inset = fig.add_axes([0.4, 0.7, 0.27, 0.27])  # [left, bottom, width, height]\n",
        "# for id in range(len(repetitions_list)):\n",
        "#   ax_inset.plot(times[3:],magnetizations_cl_rep[id,3:])\n",
        "# ax_inset.set_ylim(-0.25,0.1)\n",
        "# ax_inset.tick_params(direction='in')\n",
        "# ax_inset.tick_params(top=True, right=True, which='major')\n",
        "\n",
        "\n",
        "ax.set_xlim(0,times[-1])\n",
        "ax.set_ylim(-1.1,1.1)\n",
        "ax.tick_params(direction='in')\n",
        "ax.tick_params(top=True, right=True, which='major')\n",
        "ax.legend(frameon=False)\n",
        "ax.set_xlabel(r'time, $t$')\n",
        "ax.set_ylabel(r\"average magnetisation, $\\langle \\psi(t)| M | \\psi(t) \\rangle$\")\n",
        "ax.set_title(\"Trotter-Suzuki quantum sim.; 1D transverse field Ising model: N=4\")\n",
        "plt.tight_layout(pad=0.1, w_pad=0.4, h_pad=0.5)\n",
        "# plt.savefig(\"name.png\",dpi=300)\n",
        "# plt.savefig(\"name.svg\")\n",
        "plt.show()"
      ],
      "metadata": {
        "colab": {
          "base_uri": "https://localhost:8080/",
          "height": 513
        },
        "id": "khTPbuGsQjhh",
        "outputId": "de71d1c8-bb14-49b6-c1ca-95ec6be79c39"
      },
      "execution_count": 5,
      "outputs": [
        {
          "output_type": "display_data",
          "data": {
            "text/plain": [
              "<Figure size 640x480 with 1 Axes>"
            ],
            "image/png": "[encoded data removed]"
          },
          "metadata": {}
        }
      ]
    },
    {
      "cell_type": "markdown",
      "source": [
        "### Different times and shots; repetitions=15"
      ],
      "metadata": {
        "id": "cenhaIxnVXhx"
      }
    },
    {
      "cell_type": "code",
      "source": [
        "times = np.arange(0.0,3,0.05)\n",
        "shots_list = [500,1000,2000,5000,10000]\n",
        "\n",
        "magnetizations_cl_shots = np.zeros((len(shots_list),len(times)))\n",
        "\n",
        "# Parameters related to qcircuit and measurement\n",
        "REPETITIONS = 15\n",
        "\n",
        "for (jd,shots) in enumerate(shots_list):\n",
        "  qcircuit = create_model(main)\n",
        "  quantum_program = synthesize(qcircuit)\n",
        "\n",
        "  # ExecuteSession for symbolic parameters\n",
        "  exe_session = ExecutionSession(quantum_program,\n",
        "                                  ExecutionPreferences(\n",
        "                                  num_shots=shots, job_name=f\"suzuki-trotter\", random_seed=767\n",
        "                                ))\n",
        "  # show(quantum_program)\n",
        "\n",
        "  for (id,time) in enumerate(times):\n",
        "    results = exe_session.sample({\"time\":time,\"J\":-1,\"h\":-3})\n",
        "\n",
        "    # calculate magnetization\n",
        "    data = results.counts\n",
        "    state = [v/shots for v in data.values()]\n",
        "    basis = list(data.keys())\n",
        "    magnetizations_cl_shots[jd,id] = mz_total(basis,state)"
      ],
      "metadata": {
        "id": "ygjl5U_KRUK6"
      },
      "execution_count": null,
      "outputs": []
    },
    {
      "cell_type": "code",
      "source": [
        "magnetizations_cl_shots"
      ],
      "metadata": {
        "colab": {
          "base_uri": "https://localhost:8080/"
        },
        "id": "Q-qyKB2acSt8",
        "outputId": "4776f0ec-df19-4458-8c21-ab3b92ebb155"
      },
      "execution_count": null,
      "outputs": [
        {
          "output_type": "execute_result",
          "data": {
            "text/plain": [
              "array([[ 1.     ,  0.954  ,  0.824  ,  0.617  ,  0.364  ,  0.076  ,\n",
              "        -0.192  , -0.444  , -0.638  , -0.764  , -0.833  , -0.823  ,\n",
              "        -0.742  , -0.611  , -0.461  , -0.251  , -0.084  ,  0.129  ,\n",
              "         0.243  ,  0.352  ,  0.403  ,  0.418  ,  0.407  ,  0.319  ,\n",
              "         0.247  ,  0.167  ,  0.082  , -0.024  , -0.107  , -0.136  ,\n",
              "        -0.169  , -0.184  , -0.172  , -0.174  , -0.157  , -0.135  ,\n",
              "        -0.111  , -0.09   , -0.068  , -0.083  , -0.082  , -0.085  ,\n",
              "        -0.091  , -0.092  , -0.09   , -0.07   , -0.025  ,  0.001  ,\n",
              "         0.027  ,  0.051  ,  0.085  ,  0.083  ,  0.091  ,  0.1    ,\n",
              "         0.082  ,  0.069  ,  0.008  , -0.025  , -0.076  , -0.144  ],\n",
              "       [ 1.     ,  0.9535 ,  0.8245 ,  0.6225 ,  0.3705 ,  0.0945 ,\n",
              "        -0.1855 , -0.432  , -0.623  , -0.746  , -0.8235 , -0.8115 ,\n",
              "        -0.7285 , -0.594  , -0.4415 , -0.2465 , -0.069  ,  0.1295 ,\n",
              "         0.251  ,  0.3645 ,  0.415  ,  0.4345 ,  0.4115 ,  0.341  ,\n",
              "         0.27   ,  0.184  ,  0.0905 , -0.008  , -0.0935 , -0.1265 ,\n",
              "        -0.1575 , -0.17   , -0.1665 , -0.1585 , -0.1405 , -0.119  ,\n",
              "        -0.0985 , -0.072  , -0.059  , -0.063  , -0.0645 , -0.075  ,\n",
              "        -0.077  , -0.083  , -0.0715 , -0.048  , -0.0115 ,  0.009  ,\n",
              "         0.0425 ,  0.067  ,  0.0955 ,  0.0955 ,  0.1015 ,  0.1055 ,\n",
              "         0.0945 ,  0.075  ,  0.017  , -0.0235 , -0.0695 , -0.123  ],\n",
              "       [ 1.     ,  0.95225,  0.825  ,  0.6215 ,  0.37075,  0.0945 ,\n",
              "        -0.18425, -0.4365 , -0.62625, -0.75575, -0.8235 , -0.81025,\n",
              "        -0.73725, -0.60225, -0.44   , -0.24175, -0.06625,  0.1205 ,\n",
              "         0.25175,  0.36   ,  0.415  ,  0.431  ,  0.40975,  0.34875,\n",
              "         0.26275,  0.17375,  0.08375, -0.00475, -0.0775 , -0.12125,\n",
              "        -0.1495 , -0.162  , -0.156  , -0.148  , -0.131  , -0.11075,\n",
              "        -0.0905 , -0.0675 , -0.06325, -0.065  , -0.06575, -0.073  ,\n",
              "        -0.07775, -0.08475, -0.0715 , -0.045  , -0.01675,  0.00725,\n",
              "         0.043  ,  0.073  ,  0.105  ,  0.11175,  0.12   ,  0.1105 ,\n",
              "         0.0995 ,  0.069  ,  0.01125, -0.02375, -0.068  , -0.1155 ],\n",
              "       [ 1.     ,  0.9564 ,  0.827  ,  0.6256 ,  0.3764 ,  0.1038 ,\n",
              "        -0.1699 , -0.4222 , -0.6206 , -0.754  , -0.8162 , -0.8064 ,\n",
              "        -0.7284 , -0.5934 , -0.424  , -0.2367 , -0.0483 ,  0.1277 ,\n",
              "         0.2664 ,  0.3702 ,  0.4262 ,  0.4361 ,  0.4136 ,  0.3517 ,\n",
              "         0.2777 ,  0.1856 ,  0.0923 ,  0.0075 , -0.063  , -0.1034 ,\n",
              "        -0.1342 , -0.1447 , -0.1378 , -0.1288 , -0.1094 , -0.0904 ,\n",
              "        -0.0705 , -0.0543 , -0.0505 , -0.0568 , -0.0632 , -0.0694 ,\n",
              "        -0.0756 , -0.07   , -0.0545 , -0.0378 , -0.0073 ,  0.022  ,\n",
              "         0.0528 ,  0.0816 ,  0.1116 ,  0.1258 ,  0.1329 ,  0.1239 ,\n",
              "         0.1048 ,  0.0757 ,  0.0339 , -0.0064 , -0.0539 , -0.0982 ],\n",
              "       [ 1.     ,  0.95475,  0.8268 ,  0.62505,  0.37745,  0.1001 ,\n",
              "        -0.16885, -0.4177 , -0.61685, -0.74845, -0.81285, -0.80395,\n",
              "        -0.7211 , -0.5925 , -0.42405, -0.2351 , -0.0495 ,  0.12615,\n",
              "         0.2669 ,  0.3678 ,  0.42535,  0.43845,  0.41355,  0.3539 ,\n",
              "         0.2808 ,  0.18495,  0.09345,  0.0095 , -0.05605, -0.10285,\n",
              "        -0.13285, -0.14335, -0.13965, -0.1267 , -0.1077 , -0.08565,\n",
              "        -0.06385, -0.04835, -0.04335, -0.0501 , -0.05535, -0.06265,\n",
              "        -0.06715, -0.0625 , -0.04975, -0.0327 , -0.00695,  0.02045,\n",
              "         0.05435,  0.08615,  0.1152 ,  0.1353 ,  0.1416 ,  0.1293 ,\n",
              "         0.10695,  0.07455,  0.0325 , -0.0079 , -0.05365, -0.0905 ]])"
            ]
          },
          "metadata": {},
          "execution_count": 192
        }
      ]
    },
    {
      "cell_type": "code",
      "source": [
        "# plot\n",
        "# plt.plot(times,magnetizations_exact,label=f\"Exact evolution\")\n",
        "# plt.plot(t_maxs,magnetizations_TS,label=f\"Trotter-Suzuki decomposition (without Classiq)\", lw=0, marker='o',color='k',markersize=5)\n",
        "fig, ax = plt.subplots()\n",
        "for id in range(len(shots_list)):\n",
        "  ax.plot(times,magnetizations_cl_shots[id,:],label=f\"shots = {shots_list[id]}\") #, marker='x',color='red',markersize=5)\n",
        "\n",
        "# ax_inset = fig.add_axes([0.4, 0.7, 0.27, 0.27])  # [left, bottom, width, height]\n",
        "# for id in range(len(repetitions_list)):\n",
        "#   ax_inset.plot(times[3:],magnetizations_cl_rep[id,3:])\n",
        "# ax_inset.set_ylim(-0.25,0.1)\n",
        "# ax_inset.tick_params(direction='in')\n",
        "# ax_inset.tick_params(top=True, right=True, which='major')\n",
        "\n",
        "\n",
        "ax.set_xlim(0,times[-1])\n",
        "ax.set_ylim(-1.1,1.1)\n",
        "ax.tick_params(direction='in')\n",
        "ax.tick_params(top=True, right=True, which='major')\n",
        "ax.legend(frameon=False)\n",
        "ax.set_xlabel(r'time, $t$')\n",
        "ax.set_ylabel(r\"average magnetisation, $\\langle \\psi(t)| M | \\psi(t) \\rangle$\")\n",
        "ax.set_title(\"Trotter-Suzuki quantum sim.; 1D transverse field Ising model: N=4\")\n",
        "plt.tight_layout(pad=0.1, w_pad=0.4, h_pad=0.5)\n",
        "# plt.savefig(\"name.png\",dpi=300)\n",
        "# plt.savefig(\"name.svg\")\n",
        "plt.show()"
      ],
      "metadata": {
        "colab": {
          "base_uri": "https://localhost:8080/",
          "height": 513
        },
        "id": "Ys76381bVvQh",
        "outputId": "7f038385-c981-4b05-9b07-dde95071d4ee"
      },
      "execution_count": 7,
      "outputs": [
        {
          "output_type": "display_data",
          "data": {
            "text/plain": [
              "<Figure size 640x480 with 1 Axes>"
            ],
            "image/png": "[encoded data removed]"
          },
          "metadata": {}
        }
      ]
    },
    {
      "cell_type": "markdown",
      "source": [
        "### Different times; repetitions=15, shots=1000 (final results)"
      ],
      "metadata": {
        "id": "ION7nO4aN7sE"
      }
    },
    {
      "cell_type": "code",
      "source": [
        "times = np.arange(0.0,3.,0.05)\n",
        "\n",
        "magnetizations_cl = np.zeros(len(times))\n",
        "\n",
        "# Parameters related to qcircuit and measurement\n",
        "REPETITIONS = 15\n",
        "shots = 1000\n",
        "\n",
        "qcircuit = create_model(main)\n",
        "quantum_program = synthesize(qcircuit)\n",
        "\n",
        "# ExecuteSession for symbolic parameters\n",
        "exe_session = ExecutionSession(quantum_program,\n",
        "                                ExecutionPreferences(\n",
        "                                num_shots=shots, job_name=f\"suzuki-trotter\", random_seed=767\n",
        "                              ))\n",
        "# show(quantum_program)\n",
        "\n",
        "for (id,time) in enumerate(times):\n",
        "  results = exe_session.sample({\"time\":time,\"J\":-1,\"h\":-3})\n",
        "\n",
        "  # calculate magnetization\n",
        "  data = results.counts\n",
        "  state = [v/shots for v in data.values()]\n",
        "  basis = list(data.keys())\n",
        "  magnetizations_cl[id] = mz_total(basis,state)"
      ],
      "metadata": {
        "id": "3KvhI6xA-wDu"
      },
      "execution_count": null,
      "outputs": []
    },
    {
      "cell_type": "code",
      "source": [
        "magnetizations_cl"
      ],
      "metadata": {
        "colab": {
          "base_uri": "https://localhost:8080/"
        },
        "id": "D7a8lSLBY6hV",
        "outputId": "ea0c09e1-2fce-4baf-8372-ce928b1f551f"
      },
      "execution_count": null,
      "outputs": [
        {
          "output_type": "execute_result",
          "data": {
            "text/plain": [
              "array([ 1.    ,  0.9535,  0.8245,  0.6225,  0.3705,  0.0945, -0.1855,\n",
              "       -0.432 , -0.623 , -0.746 , -0.8235, -0.8115, -0.7285, -0.594 ,\n",
              "       -0.4415, -0.2465, -0.069 ,  0.1295,  0.251 ,  0.3645,  0.415 ,\n",
              "        0.4345,  0.4115,  0.341 ,  0.27  ,  0.184 ,  0.0905, -0.008 ,\n",
              "       -0.0935, -0.1265, -0.1575, -0.17  , -0.1665, -0.1585, -0.1405,\n",
              "       -0.119 , -0.0985, -0.072 , -0.059 , -0.063 , -0.0645, -0.075 ,\n",
              "       -0.077 , -0.083 , -0.0715, -0.048 , -0.0115,  0.009 ,  0.0425,\n",
              "        0.067 ,  0.0955,  0.0955,  0.1015,  0.1055,  0.0945,  0.075 ,\n",
              "        0.017 , -0.0235, -0.0695, -0.123 ])"
            ]
          },
          "metadata": {},
          "execution_count": 197
        }
      ]
    },
    {
      "cell_type": "code",
      "source": [
        "# plot\n",
        "# plt.plot(times,magnetizations_exact,label=f\"Exact evolution\")\n",
        "# plt.plot(t_maxs,magnetizations_TS,label=f\"Trotter-Suzuki decomposition (without Classiq)\", lw=0, marker='o',color='k',markersize=5)\n",
        "plt.plot(times,magnetizations_cl,label=f\"Trotter-Suzuki decomposition (quantum method)\", marker='x',color='red',markersize=5)\n",
        "plt.xlim(0,times[-1])\n",
        "plt.ylim(-1.1,1.1)\n",
        "plt.tick_params(direction='in')\n",
        "plt.tick_params(top=True, right=True, which='major')\n",
        "plt.legend(frameon=False)\n",
        "plt.xlabel(r'time, $t$')\n",
        "plt.ylabel(r\"average magnetisation, $\\langle \\psi(t)| M | \\psi(t) \\rangle$\")\n",
        "plt.title(\"1D transverse field Ising model: N=4\")\n",
        "plt.tight_layout(pad=0.1, w_pad=0.4, h_pad=0.5)\n",
        "# plt.savefig(\"name.png\",dpi=300)\n",
        "# plt.savefig(\"name.svg\")\n",
        "plt.show()"
      ],
      "metadata": {
        "colab": {
          "base_uri": "https://localhost:8080/",
          "height": 513
        },
        "id": "vDP9rNrZ-zn4",
        "outputId": "03fa51a7-18c1-4ad7-d1d7-9b4a2abfd0d1"
      },
      "execution_count": 9,
      "outputs": [
        {
          "output_type": "display_data",
          "data": {
            "text/plain": [
              "<Figure size 640x480 with 1 Axes>"
            ],
            "image/png": "[encoded data removed]"
          },
          "metadata": {}
        }
      ]
    },
    {
      "cell_type": "code",
      "source": [],
      "metadata": {
        "id": "xtGjf7vQ0kwn"
      },
      "execution_count": null,
      "outputs": []
    }
  ]
}